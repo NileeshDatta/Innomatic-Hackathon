{
 "cells": [
  {
   "cell_type": "markdown",
   "id": "af8e1bcf",
   "metadata": {},
   "source": [
    "# What is the shape of \"ratings.csv\"?"
   ]
  },
  {
   "cell_type": "code",
   "execution_count": 10,
   "id": "0d0a3371",
   "metadata": {},
   "outputs": [
    {
     "name": "stdout",
     "output_type": "stream",
     "text": [
      "The shape of ratings.csv is (9742, 3)\n"
     ]
    }
   ],
   "source": [
    "import pandas as pd\n",
    "file_path=\"C://Users//nilut//Downloads//ratings.csv\"\n",
    "ratings_data=pd.read_csv(file_path)\n",
    "print(\"The shape of ratings.csv is\",movies_data.shape)"
   ]
  },
  {
   "cell_type": "markdown",
   "id": "0bd0457a",
   "metadata": {},
   "source": [
    "# What is the shape of \"movies.csv\"?"
   ]
  },
  {
   "cell_type": "code",
   "execution_count": 6,
   "id": "979f9905",
   "metadata": {},
   "outputs": [
    {
     "name": "stdout",
     "output_type": "stream",
     "text": [
      "The shape of movies.csv is (9742, 3)\n"
     ]
    }
   ],
   "source": [
    "import pandas as pd\n",
    "file_path=\"C://Users//nilut//Downloads//movies.csv\"\n",
    "movies_data=pd.read_csv(file_path)\n",
    "print(\"The shape of movies.csv is\",movies_data.shape)"
   ]
  },
  {
   "cell_type": "markdown",
   "id": "84c24652",
   "metadata": {},
   "source": [
    "# How many unique \"userId\" are available in \"ratings.csv\"?"
   ]
  },
  {
   "cell_type": "code",
   "execution_count": 11,
   "id": "4af32c64",
   "metadata": {},
   "outputs": [
    {
     "name": "stdout",
     "output_type": "stream",
     "text": [
      "610\n"
     ]
    }
   ],
   "source": [
    "unique_val=len(pd.unique(ratings_data['userId']))\n",
    "print(unique_val)"
   ]
  },
  {
   "cell_type": "markdown",
   "id": "b9afe7c2",
   "metadata": {},
   "source": [
    "# Which movie has recieved maximum number of user ratings?"
   ]
  },
  {
   "cell_type": "code",
   "execution_count": 23,
   "id": "c86305c1",
   "metadata": {},
   "outputs": [
    {
     "name": "stdout",
     "output_type": "stream",
     "text": [
      "The movie with the maximum number of user rating is: Forrest Gump (1994)\n"
     ]
    }
   ],
   "source": [
    "import pandas as pd\n",
    "movies_data=pd.read_csv(\"C://Users//nilut//Downloads//movies.csv\")\n",
    "ratings_data=pd.read_csv(\"C://Users//nilut//Downloads//ratings.csv\")\n",
    "merged_data=pd.merge(ratings_data,movies_data,on=\"movieId\")\n",
    "ratings_count=merged_data.groupby(\"title\").size()\n",
    "max_ratings_movie=ratings_count.idxmax()\n",
    "print(f\"The movie with the maximum number of user rating is: {max_ratings_movie}\")"
   ]
  },
  {
   "cell_type": "markdown",
   "id": "3433813e",
   "metadata": {},
   "source": [
    "# Select all the correct tags submitted by users to \"Matrix, The (1999)\" movie?"
   ]
  },
  {
   "cell_type": "code",
   "execution_count": 52,
   "id": "7be76f6e",
   "metadata": {},
   "outputs": [
    {
     "name": "stdout",
     "output_type": "stream",
     "text": [
      "Tags for Matrix, The (1999):\n",
      "['martial arts', 'sci-fi', 'alternate universe', 'philosophy', 'post apocalyptic']\n"
     ]
    }
   ],
   "source": [
    "import pandas as pd\n",
    "\n",
    "\n",
    "movies_data = pd.read_csv(\"C://Users//nilut//Downloads//movies.csv\")\n",
    "tags_data = pd.read_csv(\"C://Users//nilut//Downloads//tags.csv\")\n",
    "\n",
    "\n",
    "matrix_movie_id = movies_data[movies_data[\"title\"] == \"Matrix, The (1999)\"][\"movieId\"].values[0]\n",
    "\n",
    "\n",
    "matrix_tags = tags_data[tags_data[\"movieId\"] == matrix_movie_id]\n",
    "\n",
    "\n",
    "print(\"Tags for Matrix, The (1999):\")\n",
    "print(matrix_tags[\"tag\"].tolist())"
   ]
  },
  {
   "cell_type": "markdown",
   "id": "957b8206",
   "metadata": {},
   "source": [
    "# What is the average user rating for movie named \"Terminator 2: Judgment Day (1991)\"?"
   ]
  },
  {
   "cell_type": "code",
   "execution_count": 47,
   "id": "e22c8a19",
   "metadata": {},
   "outputs": [
    {
     "name": "stdout",
     "output_type": "stream",
     "text": [
      "The average user rating for 'Terminator 2: Judgment Day (1991)' is: 3.97\n"
     ]
    }
   ],
   "source": [
    "import pandas as pd\n",
    "\n",
    "movies_data = pd.read_csv(\"C://Users//nilut//Downloads//movies.csv\")\n",
    "ratings_data = pd.read_csv(\"C://Users//nilut//Downloads//ratings.csv\")\n",
    "\n",
    "\n",
    "\n",
    "terminator_movie_id = movies_data[\n",
    "    (movies_data[\"title\"] == \"Terminator 2: Judgment Day (1991)\")\n",
    "][\"movieId\"].values[0]\n",
    "\n",
    "\n",
    "terminator_ratings = ratings_data[ratings_data[\"movieId\"] == terminator_movie_id]\n",
    "\n",
    "\n",
    "average_rating = terminator_ratings[\"rating\"].mean()\n",
    "\n",
    "\n",
    "print(f\"The average user rating for 'Terminator 2: Judgment Day (1991)' is: {average_rating:.2f}\")\n"
   ]
  },
  {
   "cell_type": "markdown",
   "id": "18073760",
   "metadata": {},
   "source": [
    "# How does the data distribution of user ratings for \"Fight Club (1999)\" movie looks like?"
   ]
  },
  {
   "cell_type": "code",
   "execution_count": 32,
   "id": "8941e628",
   "metadata": {},
   "outputs": [
    {
     "data": {
      "image/png": "[encoded data removed]",
      "text/plain": [
       "<Figure size 640x480 with 1 Axes>"
      ]
     },
     "metadata": {},
     "output_type": "display_data"
    }
   ],
   "source": [
    "import pandas as pd\n",
    "import matplotlib.pyplot as plt\n",
    "\n",
    "# Load movies and ratings data into DataFrames\n",
    "movies_data = pd.read_csv(\"C://Users//nilut//Downloads//movies.csv\")\n",
    "ratings_data = pd.read_csv(\"C://Users//nilut//Downloads//ratings.csv\")\n",
    "\n",
    "# Find the movieId for \"Fight Club (1999)\"\n",
    "fight_club_movie_id = movies_data[\n",
    "    (movies_data[\"title\"] == \"Fight Club (1999)\")\n",
    "][\"movieId\"].values[0]\n",
    "\n",
    "# Filter ratings for the specific movieId\n",
    "fight_club_ratings = ratings_data[ratings_data[\"movieId\"] == fight_club_movie_id]\n",
    "\n",
    "# Plot a histogram of user ratings\n",
    "plt.hist(fight_club_ratings[\"rating\"], bins=10, edgecolor=\"black\")\n",
    "plt.title(\"User Ratings Distribution for Fight Club (1999)\")\n",
    "plt.xlabel(\"Rating\")\n",
    "plt.ylabel(\"Number of Users\")\n",
    "plt.show()"
   ]
  },
  {
   "cell_type": "markdown",
   "id": "ba29d6f2",
   "metadata": {},
   "source": [
    "# Which Sci-Fi movie is \"third most popular\" based on the number of user ratings?"
   ]
  },
  {
   "cell_type": "code",
   "execution_count": 39,
   "id": "f7d167f8",
   "metadata": {},
   "outputs": [
    {
     "name": "stdout",
     "output_type": "stream",
     "text": [
      "Third most popular Sci-Fi movie based on user ratings:\n",
      "Jurassic Park (1993)\n"
     ]
    }
   ],
   "source": [
    "import pandas as pd\n",
    "\n",
    "\n",
    "movies_data = pd.read_csv(\"C://Users//nilut//Downloads//movies.csv\")\n",
    "ratings_data = pd.read_csv(\"C://Users//nilut//Downloads//ratings.csv\")\n",
    "\n",
    "\n",
    "merged_data = pd.merge(movies_data, ratings_data, on='movieId')  \n",
    "\n",
    "\n",
    "scifi_movies = merged_data[merged_data['genres'].str.contains('Sci-Fi')]  \n",
    "\n",
    "rating_counts = scifi_movies.groupby('title')['rating'].count()\n",
    "\n",
    "\n",
    "sorted_rating_counts = rating_counts.sort_values(ascending=False)\n",
    "\n",
    "third_most_popular_scifi = sorted_rating_counts.index[2]\n",
    "\n",
    "print(\"Third most popular Sci-Fi movie based on user ratings:\")\n",
    "print(third_most_popular_scifi)"
   ]
  },
  {
   "cell_type": "markdown",
   "id": "29039a0c",
   "metadata": {},
   "source": [
    "# Mention the movieId of the movie which has the highest IMDB rating"
   ]
  },
  {
   "cell_type": "code",
   "execution_count": 40,
   "id": "7f925f18",
   "metadata": {},
   "outputs": [
    {
     "name": "stdout",
     "output_type": "stream",
     "text": [
      "MovieId of the movie with the highest IMDB rating:\n",
      "1\n"
     ]
    }
   ],
   "source": [
    "import pandas as pd\n",
    "\n",
    "\n",
    "movies_data = pd.read_csv(\"C://Users//nilut//Downloads//movies.csv\")\n",
    "ratings_data = pd.read_csv(\"C://Users//nilut//Downloads//ratings.csv\")\n",
    "\n",
    "\n",
    "merged_data = pd.merge(movies_data, ratings_data, on='movieId')\n",
    "\n",
    "\n",
    "movie_with_highest_rating = merged_data.loc[merged_data['rating'] == merged_data['rating'].max()]\n",
    "\n",
    "\n",
    "movieId_with_highest_rating = movie_with_highest_rating['movieId'].iloc[0]\n",
    "\n",
    "\n",
    "print(\"MovieId of the movie with the highest IMDB rating:\")\n",
    "print(movieId_with_highest_rating)"
   ]
  },
  {
   "cell_type": "markdown",
   "id": "2e1fe145",
   "metadata": {},
   "source": [
    "# Mention the movieId of the \"Sci-Fi\" movie which has the highest IMDB rating."
   ]
  },
  {
   "cell_type": "code",
   "execution_count": 44,
   "id": "eab55384",
   "metadata": {},
   "outputs": [
    {
     "name": "stdout",
     "output_type": "stream",
     "text": [
      "MovieId of the Sci-Fi movie with the highest IMDB rating:\n",
      "24\n"
     ]
    }
   ],
   "source": [
    "import pandas as pd\n",
    "\n",
    "\n",
    "movies_data = pd.read_csv(\"C://Users//nilut//Downloads//movies.csv\")\n",
    "ratings_data = pd.read_csv(\"C://Users//nilut//Downloads//ratings.csv\")\n",
    "\n",
    "merged_df = pd.merge(movies_data, ratings_data, on='movieId')\n",
    "\n",
    "\n",
    "scifi_movies = merged_data[merged_data['genres'].str.contains('Sci-Fi')]  # Assuming 'genres' column\n",
    "\n",
    "\n",
    "scifi_movie_with_highest_rating = scifi_movies.loc[scifi_movies['rating'] == scifi_movies['rating'].max()]\n",
    "\n",
    "\n",
    "scifi_movieId_with_highest_rating = scifi_movie_with_highest_rating['movieId'].iloc[0]\n",
    "\n",
    "print(\"MovieId of the Sci-Fi movie with the highest IMDB rating:\")\n",
    "print(scifi_movieId_with_highest_rating)"
   ]
  },
  {
   "cell_type": "markdown",
   "id": "bdbb13e8",
   "metadata": {},
   "source": [
    "# Select all the correct options which comes under top 5 popular movies based on number of user ratings."
   ]
  },
  {
   "cell_type": "code",
   "execution_count": 45,
   "id": "c24eb22d",
   "metadata": {},
   "outputs": [
    {
     "name": "stdout",
     "output_type": "stream",
     "text": [
      "Top 5 popular movies based on number of user ratings:\n",
      "Index(['Forrest Gump (1994)', 'Shawshank Redemption, The (1994)',\n",
      "       'Pulp Fiction (1994)', 'Silence of the Lambs, The (1991)',\n",
      "       'Matrix, The (1999)'],\n",
      "      dtype='object', name='title')\n"
     ]
    }
   ],
   "source": [
    "import pandas as pd\n",
    "\n",
    "\n",
    "movies_data = pd.read_csv(\"C://Users//nilut//Downloads//movies.csv\")\n",
    "ratings_data = pd.read_csv(\"C://Users//nilut//Downloads//ratings.csv\")\n",
    "\n",
    "\n",
    "merged_data = pd.merge(ratings_data, movies_data, on=\"movieId\")\n",
    "\n",
    "\n",
    "ratings_count = merged_data.groupby(\"title\")[\"rating\"].count()\n",
    "\n",
    "\n",
    "top_5_movies = ratings_count.nlargest(5).index\n",
    "\n",
    "\n",
    "print(\"Top 5 popular movies based on number of user ratings:\")\n",
    "print(top_5_movies)"
   ]
  },
  {
   "cell_type": "code",
   "execution_count": null,
   "id": "d4d82b86",
   "metadata": {},
   "outputs": [],
   "source": []
  }
 ],
 "metadata": {
  "kernelspec": {
   "display_name": "Python 3 (ipykernel)",
   "language": "python",
   "name": "python3"
  },
  "language_info": {
   "codemirror_mode": {
    "name": "ipython",
    "version": 3
   },
   "file_extension": ".py",
   "mimetype": "text/x-python",
   "name": "python",
   "nbconvert_exporter": "python",
   "pygments_lexer": "ipython3",
   "version": "3.11.5"
  }
 },
 "nbformat": 4,
 "nbformat_minor": 5
}
